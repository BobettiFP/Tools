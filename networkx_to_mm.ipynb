{
  "nbformat": 4,
  "nbformat_minor": 0,
  "metadata": {
    "colab": {
      "provenance": [],
      "authorship_tag": "ABX9TyPGLZclZ7B8dQfyzsBkWu1W",
      "include_colab_link": true
    },
    "kernelspec": {
      "name": "python3",
      "display_name": "Python 3"
    },
    "language_info": {
      "name": "python"
    }
  },
  "cells": [
    {
      "cell_type": "markdown",
      "metadata": {
        "id": "view-in-github",
        "colab_type": "text"
      },
      "source": [
        "<a href=\"https://colab.research.google.com/github/BobettiFP/Tools/blob/main/NetworkXtoMermaid.ipynb\" target=\"_parent\"><img src=\"https://colab.research.google.com/assets/colab-badge.svg\" alt=\"Open In Colab\"/></a>"
      ]
    },
    {
      "cell_type": "code",
      "execution_count": 53,
      "metadata": {
        "id": "hZuB3sb64J0G"
      },
      "outputs": [],
      "source": [
        "#given a networkx graph in the following format:\n"
      ]
    },
    {
      "cell_type": "code",
      "source": [
        "# prompt: Another sample networkx graph with a node type attribute\n",
        "\n",
        "import networkx as nx\n",
        "\n",
        "def create_graph_with_node_type(edges, node_types):\n",
        "    \"\"\"\n",
        "    Creates a NetworkX graph with a 'type' attribute for each node.\n",
        "\n",
        "    Args:\n",
        "        edges: A list of tuples representing the edges in the graph. Each tuple should\n",
        "               contain two node IDs.\n",
        "        node_types: A dictionary where keys are node IDs and values are their types.\n",
        "\n",
        "    Returns:\n",
        "        A NetworkX graph object.\n",
        "    \"\"\"\n",
        "\n",
        "    graph = nx.Graph()\n",
        "    for u, v in edges:\n",
        "        graph.add_edge(u, v)\n",
        "\n",
        "    for node, node_type in node_types.items():\n",
        "        graph.nodes[node]['type'] = node_type\n",
        "\n",
        "    return graph\n",
        "\n",
        "# Example usage\n",
        "edges = [(1, 2), (2, 3), (3, 1), (4, 5)]\n",
        "node_types = {1: 'A', 2: 'B', 3: 'A', 4: 'C', 5: 'C'}\n",
        "\n",
        "graph = create_graph_with_node_type(edges, node_types)\n",
        "\n",
        "\n",
        "# Print node attributes to verify\n",
        "for node, data in graph.nodes(data=True):\n",
        "  print(f\"Node {node}: {data}\")\n",
        "\n",
        "# You can further process or analyze the graph using NetworkX functions\n",
        "# e.g., calculate degree centrality\n",
        "# degree_centrality = nx.degree_centrality(graph)\n",
        "# print(degree_centrality)"
      ],
      "metadata": {
        "colab": {
          "base_uri": "https://localhost:8080/"
        },
        "id": "M1PL_-xl411R",
        "outputId": "89c78373-3ffe-496b-96ad-c59a0da7f871"
      },
      "execution_count": 54,
      "outputs": [
        {
          "output_type": "stream",
          "name": "stdout",
          "text": [
            "Node 1: {'type': 'A'}\n",
            "Node 2: {'type': 'B'}\n",
            "Node 3: {'type': 'A'}\n",
            "Node 4: {'type': 'C'}\n",
            "Node 5: {'type': 'C'}\n"
          ]
        }
      ]
    },
    {
      "cell_type": "code",
      "source": [
        "def networkx_to_mm(G, net_type = \"dir\"):\n",
        "  if net_type == \"dir\":\n",
        "    dir = \"--->\"\n",
        "  elif net_type == \"undir\":\n",
        "    dir = \"<--->\"\n",
        "  else:\n",
        "    raise ValueError(\"net_type must be Directed or Undirected\")\n",
        "  nodes = G.nodes()\n",
        "  edges = G.edges()\n",
        "  mermaid_diagram = \"graph TD\\n\"\n",
        "  for k,v in nodes.items():\n",
        "    mermaid_diagram+=(\"  \"+str(k).replace(\" \",\"\")+':::'+str(v['type'])+'\\n')\n",
        "  for i, j in edges:\n",
        "    mermaid_diagram+=(\"  \"+str(i).replace(\" \",\"\")+\"['\"+str(i)+\"']\"+dir+str(j).replace(\" \",\"\")+\"['\"+str(j)+\"']\\n\")\n",
        "  return mermaid_diagram"
      ],
      "metadata": {
        "id": "xCUdG5Ym4aYI"
      },
      "execution_count": 55,
      "outputs": []
    },
    {
      "cell_type": "code",
      "source": [
        "import base64\n",
        "from IPython.display import Image, display\n",
        "import matplotlib.pyplot as plt\n",
        "def mm(graph):\n",
        "    graphbytes = graph.encode(\"utf8\")\n",
        "    base64_bytes = base64.urlsafe_b64encode(graphbytes)\n",
        "    base64_string = base64_bytes.decode(\"ascii\")\n",
        "    display(Image(url=\"https://mermaid.ink/img/\" + base64_string))"
      ],
      "metadata": {
        "id": "My-wd8oX528k"
      },
      "execution_count": 56,
      "outputs": []
    },
    {
      "cell_type": "code",
      "source": [
        "print(networkx_to_mm(graph, net_type=\"undir\"))"
      ],
      "metadata": {
        "colab": {
          "base_uri": "https://localhost:8080/"
        },
        "id": "iMvQWgxG7yEd",
        "outputId": "5de384ae-2767-4b2b-c234-569626ac9866"
      },
      "execution_count": 57,
      "outputs": [
        {
          "output_type": "stream",
          "name": "stdout",
          "text": [
            "graph TD\n",
            "  1:::A\n",
            "  2:::B\n",
            "  3:::A\n",
            "  4:::C\n",
            "  5:::C\n",
            "  1['1']<--->2['2']\n",
            "  1['1']<--->3['3']\n",
            "  2['2']<--->3['3']\n",
            "  4['4']<--->5['5']\n",
            "\n"
          ]
        }
      ]
    },
    {
      "cell_type": "code",
      "source": [
        "mm(networkx_to_mm(graph, net_type=\"dir\"))"
      ],
      "metadata": {
        "colab": {
          "base_uri": "https://localhost:8080/",
          "height": 400
        },
        "id": "05eA8jpC75UX",
        "outputId": "e452c40d-b8ea-4604-ffa1-7820e16b9c3e"
      },
      "execution_count": 58,
      "outputs": [
        {
          "output_type": "display_data",
          "data": {
            "text/html": [
              "<img src=\"https://mermaid.ink/img/Z3JhcGggVEQKICAxOjo6QQogIDI6OjpCCiAgMzo6OkEKICA0Ojo6QwogIDU6OjpDCiAgMVsnMSddLS0tPjJbJzInXQogIDFbJzEnXS0tLT4zWyczJ10KICAyWycyJ10tLS0-M1snMyddCiAgNFsnNCddLS0tPjVbJzUnXQo=\"/>"
            ],
            "text/plain": [
              "<IPython.core.display.Image object>"
            ]
          },
          "metadata": {}
        }
      ]
    },
    {
      "cell_type": "code",
      "source": [
        "mm(networkx_to_mm(graph, net_type=\"undir\"))"
      ],
      "metadata": {
        "colab": {
          "base_uri": "https://localhost:8080/",
          "height": 400
        },
        "id": "rnr_Bfdf5Dh8",
        "outputId": "6352af20-c349-4a2a-d94c-acc8c1c1fc5b"
      },
      "execution_count": 59,
      "outputs": [
        {
          "output_type": "display_data",
          "data": {
            "text/html": [
              "<img src=\"https://mermaid.ink/img/Z3JhcGggVEQKICAxOjo6QQogIDI6OjpCCiAgMzo6OkEKICA0Ojo6QwogIDU6OjpDCiAgMVsnMSddPC0tLT4yWycyJ10KICAxWycxJ108LS0tPjNbJzMnXQogIDJbJzInXTwtLS0-M1snMyddCiAgNFsnNCddPC0tLT41Wyc1J10K\"/>"
            ],
            "text/plain": [
              "<IPython.core.display.Image object>"
            ]
          },
          "metadata": {}
        }
      ]
    },
    {
      "cell_type": "code",
      "source": [
        "mm(networkx_to_mm(graph))"
      ],
      "metadata": {
        "colab": {
          "base_uri": "https://localhost:8080/",
          "height": 400
        },
        "id": "BOB_LCZX6V_q",
        "outputId": "976b4995-6d57-4eaa-81e0-954fe66d0ffa"
      },
      "execution_count": 60,
      "outputs": [
        {
          "output_type": "display_data",
          "data": {
            "text/html": [
              "<img src=\"https://mermaid.ink/img/Z3JhcGggVEQKICAxOjo6QQogIDI6OjpCCiAgMzo6OkEKICA0Ojo6QwogIDU6OjpDCiAgMVsnMSddLS0tPjJbJzInXQogIDFbJzEnXS0tLT4zWyczJ10KICAyWycyJ10tLS0-M1snMyddCiAgNFsnNCddLS0tPjVbJzUnXQo=\"/>"
            ],
            "text/plain": [
              "<IPython.core.display.Image object>"
            ]
          },
          "metadata": {}
        }
      ]
    },
    {
      "cell_type": "code",
      "source": [
        "#harder example\n",
        "nodes_2020 = {\n",
        "    # Start/End\n",
        "    'Customer': {'type': 'start', 'layer': 0},\n",
        "    'Authentication Complete': {'type': 'term', 'layer': 16},\n",
        "\n",
        "    # Frontend access points\n",
        "    'Visit bank branch': {'type': 'human', 'layer': 1},\n",
        "    'Open mobile app': {'type': 'frontend', 'layer': 1},\n",
        "    'Access web portal': {'type': 'frontend', 'layer': 1},\n",
        "    'Use ATM': {'type': 'frontend', 'layer': 1},\n",
        "    'Call banking center': {'type': 'mechanical', 'layer': 1},\n",
        "\n",
        "    # Initial steps\n",
        "    'Take queue number': {'type': 'human', 'layer': 2},\n",
        "    'Launch app': {'type': 'frontend', 'layer': 2},\n",
        "    'Load secure webpage': {'type': 'frontend', 'layer': 2},\n",
        "    'Insert card': {'type': 'mechanical', 'layer': 2},\n",
        "    'Connect to agent': {'type': 'mechanical', 'layer': 2},\n",
        "\n",
        "    # ATM interaction\n",
        "    'ATM Card Detection': {'type': 'mechanical', 'layer': 3},\n",
        "    'ATM Menu Display': {'type': 'frontend', 'layer': 4},\n",
        "\n",
        "    # Device security checks (mobile)\n",
        "    'App Integrity Check': {'type': 'backend', 'layer': 3},\n",
        "    'OS Version Check': {'type': 'backend', 'layer': 3},\n",
        "    'Root/Jailbreak Check': {'type': 'backend', 'layer': 3},\n",
        "    'Register Device': {'type': 'backend', 'layer': 3},\n",
        "    'Generate Device Token': {'type': 'backend', 'layer': 4},\n",
        "\n",
        "    # Authentication methods\n",
        "    'Present ID to teller': {'type': 'human', 'layer': 5},\n",
        "    'Choose login method': {'type': 'frontend', 'layer': 5},\n",
        "    'Enter PIN': {'type': 'frontend', 'layer': 5},\n",
        "    'Provide personal information': {'type': 'mechanical', 'layer': 5},\n",
        "    'Answer security questions': {'type': 'mechanical', 'layer': 6},\n",
        "    'Verify voice pattern': {'type': 'ai', 'layer': 7},\n",
        "    'Verify face with ID': {'type': 'human', 'layer': 6},\n",
        "    'Enter Bank ID/PW': {'type': 'frontend', 'layer': 6},\n",
        "    'Use Public Certificate': {'type': 'frontend', 'layer': 6},\n",
        "    'Verify Resident Registration Number': {'type': 'frontend', 'layer': 6},\n",
        "    'Use biometric authentication': {'type': 'frontend', 'layer': 6},\n",
        "    'Use simple PIN': {'type': 'frontend', 'layer': 6},\n",
        "    'Verify PIN': {'type': 'backend', 'layer': 6},\n",
        "\n",
        "    # Additional verification steps\n",
        "    'Verify OTP': {'type': 'backend', 'layer': 7},\n",
        "    'Send SMS Code': {'type': 'backend', 'layer': 7},\n",
        "    'Verify SMS Code': {'type': 'backend', 'layer': 8},\n",
        "\n",
        "    # Security infrastructure\n",
        "    'Load Balancer': {'type': 'backend', 'layer': 8},\n",
        "    'Web Application Firewall': {'type': 'backend', 'layer': 8},\n",
        "    'TLS Handshake': {'type': 'backend', 'layer': 9},\n",
        "    'Initialize Session': {'type': 'backend', 'layer': 9},\n",
        "    'Credential Encryption': {'type': 'backend', 'layer': 10},\n",
        "    'Hash Verification': {'type': 'backend', 'layer': 10},\n",
        "    'Token Generation': {'type': 'backend', 'layer': 10},\n",
        "    'MFA Service': {'type': 'backend', 'layer': 11},\n",
        "    'Biometric Processor': {'type': 'backend', 'layer': 11},\n",
        "    'PKI Certificate Service': {'type': 'backend', 'layer': 11},\n",
        "}\n",
        "edges_2020 = [\n",
        "    #\n",
        "    # 1) Customer entry points\n",
        "    #\n",
        "    ('Customer', 'Visit bank branch'),\n",
        "    ('Customer', 'Open mobile app'),\n",
        "    ('Customer', 'Access web portal'),\n",
        "    ('Customer', 'Use ATM'),\n",
        "    ('Customer', 'Call banking center'),\n",
        "\n",
        "    #\n",
        "    # 2) Mobile app flow\n",
        "    #\n",
        "    ('Open mobile app', 'Launch app'),\n",
        "    ('Launch app', 'App Integrity Check'),\n",
        "    ('App Integrity Check', 'OS Version Check'),\n",
        "    ('OS Version Check', 'Root/Jailbreak Check'),\n",
        "    ('Root/Jailbreak Check', 'Register Device'),\n",
        "    ('Register Device', 'Generate Device Token'),\n",
        "    ('Generate Device Token', 'Choose login method'),\n",
        "\n",
        "    #\n",
        "    # 3) Web portal flow\n",
        "    #\n",
        "    ('Access web portal', 'Load secure webpage'),\n",
        "    ('Load secure webpage', 'Choose login method'),\n",
        "\n",
        "    #\n",
        "    # 4) Branch (teller) flow\n",
        "    #\n",
        "    ('Visit bank branch', 'Take queue number'),\n",
        "    ('Take queue number', 'Present ID to teller'),\n",
        "    ('Present ID to teller', 'Verify face with ID'),\n",
        "    # Teller completes if face matches:\n",
        "    ('Verify face with ID', 'Authentication Complete'),\n",
        "\n",
        "    #\n",
        "    # 5) ATM flow\n",
        "    #\n",
        "    ('Use ATM', 'Insert card'),\n",
        "    ('Insert card', 'ATM Card Detection'),\n",
        "    ('ATM Card Detection', 'ATM Menu Display'),\n",
        "    ('ATM Menu Display', 'Enter PIN'),\n",
        "    ('Enter PIN', 'Verify PIN'),\n",
        "    # After PIN verification, proceed to backend token generation + MFA\n",
        "    ('Verify PIN', 'Token Generation'),\n",
        "\n",
        "    #\n",
        "    # 6) Call center flow\n",
        "    #\n",
        "    ('Call banking center', 'Connect to agent'),\n",
        "    ('Connect to agent', 'Provide personal information'),\n",
        "    ('Provide personal information', 'Answer security questions'),\n",
        "    ('Answer security questions', 'Verify voice pattern'),\n",
        "    # Voice pattern leads to backend token generation + MFA\n",
        "    ('Verify voice pattern', 'Token Generation'),\n",
        "\n",
        "    #\n",
        "    # 7) User chooses how to log in\n",
        "    #\n",
        "    ('Choose login method', 'Enter Bank ID/PW'),\n",
        "    ('Choose login method', 'Use Public Certificate'),\n",
        "    ('Choose login method', 'Verify Resident Registration Number'),\n",
        "    ('Choose login method', 'Use biometric authentication'),\n",
        "    ('Choose login method', 'Use simple PIN'),\n",
        "\n",
        "    #\n",
        "    # 8) Sub-method flows\n",
        "    #\n",
        "    # a) Bank ID/PW, RRN, or simple PIN -> Load Balancer\n",
        "    ('Enter Bank ID/PW', 'Load Balancer'),\n",
        "    ('Verify Resident Registration Number', 'Load Balancer'),\n",
        "    ('Use simple PIN', 'Load Balancer'),\n",
        "\n",
        "    # b) Public Certificate -> PKI Certificate Service -> Load Balancer\n",
        "    ('Use Public Certificate', 'PKI Certificate Service'),\n",
        "    ('PKI Certificate Service', 'Load Balancer'),\n",
        "\n",
        "    # c) Biometric authentication -> Biometric Processor -> MFA Service\n",
        "    ('Use biometric authentication', 'Biometric Processor'),\n",
        "    ('Biometric Processor', 'MFA Service'),\n",
        "\n",
        "    #\n",
        "    # 9) Security layers (Load Balancer chain)\n",
        "    #\n",
        "    ('Load Balancer', 'Web Application Firewall'),\n",
        "    ('Web Application Firewall', 'TLS Handshake'),\n",
        "    ('TLS Handshake', 'Initialize Session'),\n",
        "    ('Initialize Session', 'Credential Encryption'),\n",
        "    ('Credential Encryption', 'Hash Verification'),\n",
        "    ('Hash Verification', 'Token Generation'),\n",
        "\n",
        "    #\n",
        "    # 10) Token Generation -> MFA\n",
        "    #\n",
        "    ('Token Generation', 'MFA Service'),\n",
        "    ('MFA Service', 'Send SMS Code'),\n",
        "    ('Send SMS Code', 'Verify SMS Code'),\n",
        "    ('Verify SMS Code', 'Verify OTP'),\n",
        "    ('Verify OTP', 'Authentication Complete'),\n",
        "]\n",
        "def create_network(nodes, edges):\n",
        "  G = nx.DiGraph()\n",
        "  for node, attrs in nodes.items():\n",
        "    G.add_node(node, **attrs)\n",
        "    # Add edges to graph\n",
        "  G.add_edges_from(edges)\n",
        "  return G\n",
        "mm(networkx_to_mm(create_network(nodes_2020, edges_2020)))"
      ],
      "metadata": {
        "colab": {
          "base_uri": "https://localhost:8080/",
          "height": 1000
        },
        "id": "9KmTRR6T6tUI",
        "outputId": "35b60300-a3d6-4ec5-eded-26e6a9acbe27"
      },
      "execution_count": 67,
      "outputs": [
        {
          "output_type": "display_data",
          "data": {
            "text/html": [
              "<img src=\"https://mermaid.ink/img/Z3JhcGggVEQKICBDdXN0b21lcjo6OnN0YXJ0CiAgQXV0aGVudGljYXRpb25Db21wbGV0ZTo6OnRlcm0KICBWaXNpdGJhbmticmFuY2g6OjpodW1hbgogIE9wZW5tb2JpbGVhcHA6Ojpmcm9udGVuZAogIEFjY2Vzc3dlYnBvcnRhbDo6OmZyb250ZW5kCiAgVXNlQVRNOjo6ZnJvbnRlbmQKICBDYWxsYmFua2luZ2NlbnRlcjo6Om1lY2hhbmljYWwKICBUYWtlcXVldWVudW1iZXI6OjpodW1hbgogIExhdW5jaGFwcDo6OmZyb250ZW5kCiAgTG9hZHNlY3VyZXdlYnBhZ2U6Ojpmcm9udGVuZAogIEluc2VydGNhcmQ6OjptZWNoYW5pY2FsCiAgQ29ubmVjdHRvYWdlbnQ6OjptZWNoYW5pY2FsCiAgQVRNQ2FyZERldGVjdGlvbjo6Om1lY2hhbmljYWwKICBBVE1NZW51RGlzcGxheTo6OmZyb250ZW5kCiAgQXBwSW50ZWdyaXR5Q2hlY2s6OjpiYWNrZW5kCiAgT1NWZXJzaW9uQ2hlY2s6OjpiYWNrZW5kCiAgUm9vdC9KYWlsYnJlYWtDaGVjazo6OmJhY2tlbmQKICBSZWdpc3RlckRldmljZTo6OmJhY2tlbmQKICBHZW5lcmF0ZURldmljZVRva2VuOjo6YmFja2VuZAogIFByZXNlbnRJRHRvdGVsbGVyOjo6aHVtYW4KICBDaG9vc2Vsb2dpbm1ldGhvZDo6OmZyb250ZW5kCiAgRW50ZXJQSU46Ojpmcm9udGVuZAogIFByb3ZpZGVwZXJzb25hbGluZm9ybWF0aW9uOjo6bWVjaGFuaWNhbAogIEFuc3dlcnNlY3VyaXR5cXVlc3Rpb25zOjo6bWVjaGFuaWNhbAogIFZlcmlmeXZvaWNlcGF0dGVybjo6OmFpCiAgVmVyaWZ5ZmFjZXdpdGhJRDo6Omh1bWFuCiAgRW50ZXJCYW5rSUQvUFc6Ojpmcm9udGVuZAogIFVzZVB1YmxpY0NlcnRpZmljYXRlOjo6ZnJvbnRlbmQKICBWZXJpZnlSZXNpZGVudFJlZ2lzdHJhdGlvbk51bWJlcjo6OmZyb250ZW5kCiAgVXNlYmlvbWV0cmljYXV0aGVudGljYXRpb246Ojpmcm9udGVuZAogIFVzZXNpbXBsZVBJTjo6OmZyb250ZW5kCiAgVmVyaWZ5UElOOjo6YmFja2VuZAogIFZlcmlmeU9UUDo6OmJhY2tlbmQKICBTZW5kU01TQ29kZTo6OmJhY2tlbmQKICBWZXJpZnlTTVNDb2RlOjo6YmFja2VuZAogIExvYWRCYWxhbmNlcjo6OmJhY2tlbmQKICBXZWJBcHBsaWNhdGlvbkZpcmV3YWxsOjo6YmFja2VuZAogIFRMU0hhbmRzaGFrZTo6OmJhY2tlbmQKICBJbml0aWFsaXplU2Vzc2lvbjo6OmJhY2tlbmQKICBDcmVkZW50aWFsRW5jcnlwdGlvbjo6OmJhY2tlbmQKICBIYXNoVmVyaWZpY2F0aW9uOjo6YmFja2VuZAogIFRva2VuR2VuZXJhdGlvbjo6OmJhY2tlbmQKICBNRkFTZXJ2aWNlOjo6YmFja2VuZAogIEJpb21ldHJpY1Byb2Nlc3Nvcjo6OmJhY2tlbmQKICBQS0lDZXJ0aWZpY2F0ZVNlcnZpY2U6OjpiYWNrZW5kCiAgQ3VzdG9tZXJbJ0N1c3RvbWVyJ10tLS0-VmlzaXRiYW5rYnJhbmNoWydWaXNpdCBiYW5rIGJyYW5jaCddCiAgQ3VzdG9tZXJbJ0N1c3RvbWVyJ10tLS0-T3Blbm1vYmlsZWFwcFsnT3BlbiBtb2JpbGUgYXBwJ10KICBDdXN0b21lclsnQ3VzdG9tZXInXS0tLT5BY2Nlc3N3ZWJwb3J0YWxbJ0FjY2VzcyB3ZWIgcG9ydGFsJ10KICBDdXN0b21lclsnQ3VzdG9tZXInXS0tLT5Vc2VBVE1bJ1VzZSBBVE0nXQogIEN1c3RvbWVyWydDdXN0b21lciddLS0tPkNhbGxiYW5raW5nY2VudGVyWydDYWxsIGJhbmtpbmcgY2VudGVyJ10KICBWaXNpdGJhbmticmFuY2hbJ1Zpc2l0IGJhbmsgYnJhbmNoJ10tLS0-VGFrZXF1ZXVlbnVtYmVyWydUYWtlIHF1ZXVlIG51bWJlciddCiAgT3Blbm1vYmlsZWFwcFsnT3BlbiBtb2JpbGUgYXBwJ10tLS0-TGF1bmNoYXBwWydMYXVuY2ggYXBwJ10KICBBY2Nlc3N3ZWJwb3J0YWxbJ0FjY2VzcyB3ZWIgcG9ydGFsJ10tLS0-TG9hZHNlY3VyZXdlYnBhZ2VbJ0xvYWQgc2VjdXJlIHdlYnBhZ2UnXQogIFVzZUFUTVsnVXNlIEFUTSddLS0tPkluc2VydGNhcmRbJ0luc2VydCBjYXJkJ10KICBDYWxsYmFua2luZ2NlbnRlclsnQ2FsbCBiYW5raW5nIGNlbnRlciddLS0tPkNvbm5lY3R0b2FnZW50WydDb25uZWN0IHRvIGFnZW50J10KICBUYWtlcXVldWVudW1iZXJbJ1Rha2UgcXVldWUgbnVtYmVyJ10tLS0-UHJlc2VudElEdG90ZWxsZXJbJ1ByZXNlbnQgSUQgdG8gdGVsbGVyJ10KICBMYXVuY2hhcHBbJ0xhdW5jaCBhcHAnXS0tLT5BcHBJbnRlZ3JpdHlDaGVja1snQXBwIEludGVncml0eSBDaGVjayddCiAgTG9hZHNlY3VyZXdlYnBhZ2VbJ0xvYWQgc2VjdXJlIHdlYnBhZ2UnXS0tLT5DaG9vc2Vsb2dpbm1ldGhvZFsnQ2hvb3NlIGxvZ2luIG1ldGhvZCddCiAgSW5zZXJ0Y2FyZFsnSW5zZXJ0IGNhcmQnXS0tLT5BVE1DYXJkRGV0ZWN0aW9uWydBVE0gQ2FyZCBEZXRlY3Rpb24nXQogIENvbm5lY3R0b2FnZW50WydDb25uZWN0IHRvIGFnZW50J10tLS0-UHJvdmlkZXBlcnNvbmFsaW5mb3JtYXRpb25bJ1Byb3ZpZGUgcGVyc29uYWwgaW5mb3JtYXRpb24nXQogIEFUTUNhcmREZXRlY3Rpb25bJ0FUTSBDYXJkIERldGVjdGlvbiddLS0tPkFUTU1lbnVEaXNwbGF5WydBVE0gTWVudSBEaXNwbGF5J10KICBBVE1NZW51RGlzcGxheVsnQVRNIE1lbnUgRGlzcGxheSddLS0tPkVudGVyUElOWydFbnRlciBQSU4nXQogIEFwcEludGVncml0eUNoZWNrWydBcHAgSW50ZWdyaXR5IENoZWNrJ10tLS0-T1NWZXJzaW9uQ2hlY2tbJ09TIFZlcnNpb24gQ2hlY2snXQogIE9TVmVyc2lvbkNoZWNrWydPUyBWZXJzaW9uIENoZWNrJ10tLS0-Um9vdC9KYWlsYnJlYWtDaGVja1snUm9vdC9KYWlsYnJlYWsgQ2hlY2snXQogIFJvb3QvSmFpbGJyZWFrQ2hlY2tbJ1Jvb3QvSmFpbGJyZWFrIENoZWNrJ10tLS0-UmVnaXN0ZXJEZXZpY2VbJ1JlZ2lzdGVyIERldmljZSddCiAgUmVnaXN0ZXJEZXZpY2VbJ1JlZ2lzdGVyIERldmljZSddLS0tPkdlbmVyYXRlRGV2aWNlVG9rZW5bJ0dlbmVyYXRlIERldmljZSBUb2tlbiddCiAgR2VuZXJhdGVEZXZpY2VUb2tlblsnR2VuZXJhdGUgRGV2aWNlIFRva2VuJ10tLS0-Q2hvb3NlbG9naW5tZXRob2RbJ0Nob29zZSBsb2dpbiBtZXRob2QnXQogIFByZXNlbnRJRHRvdGVsbGVyWydQcmVzZW50IElEIHRvIHRlbGxlciddLS0tPlZlcmlmeWZhY2V3aXRoSURbJ1ZlcmlmeSBmYWNlIHdpdGggSUQnXQogIENob29zZWxvZ2lubWV0aG9kWydDaG9vc2UgbG9naW4gbWV0aG9kJ10tLS0-RW50ZXJCYW5rSUQvUFdbJ0VudGVyIEJhbmsgSUQvUFcnXQogIENob29zZWxvZ2lubWV0aG9kWydDaG9vc2UgbG9naW4gbWV0aG9kJ10tLS0-VXNlUHVibGljQ2VydGlmaWNhdGVbJ1VzZSBQdWJsaWMgQ2VydGlmaWNhdGUnXQogIENob29zZWxvZ2lubWV0aG9kWydDaG9vc2UgbG9naW4gbWV0aG9kJ10tLS0-VmVyaWZ5UmVzaWRlbnRSZWdpc3RyYXRpb25OdW1iZXJbJ1ZlcmlmeSBSZXNpZGVudCBSZWdpc3RyYXRpb24gTnVtYmVyJ10KICBDaG9vc2Vsb2dpbm1ldGhvZFsnQ2hvb3NlIGxvZ2luIG1ldGhvZCddLS0tPlVzZWJpb21ldHJpY2F1dGhlbnRpY2F0aW9uWydVc2UgYmlvbWV0cmljIGF1dGhlbnRpY2F0aW9uJ10KICBDaG9vc2Vsb2dpbm1ldGhvZFsnQ2hvb3NlIGxvZ2luIG1ldGhvZCddLS0tPlVzZXNpbXBsZVBJTlsnVXNlIHNpbXBsZSBQSU4nXQogIEVudGVyUElOWydFbnRlciBQSU4nXS0tLT5WZXJpZnlQSU5bJ1ZlcmlmeSBQSU4nXQogIFByb3ZpZGVwZXJzb25hbGluZm9ybWF0aW9uWydQcm92aWRlIHBlcnNvbmFsIGluZm9ybWF0aW9uJ10tLS0-QW5zd2Vyc2VjdXJpdHlxdWVzdGlvbnNbJ0Fuc3dlciBzZWN1cml0eSBxdWVzdGlvbnMnXQogIEFuc3dlcnNlY3VyaXR5cXVlc3Rpb25zWydBbnN3ZXIgc2VjdXJpdHkgcXVlc3Rpb25zJ10tLS0-VmVyaWZ5dm9pY2VwYXR0ZXJuWydWZXJpZnkgdm9pY2UgcGF0dGVybiddCiAgVmVyaWZ5dm9pY2VwYXR0ZXJuWydWZXJpZnkgdm9pY2UgcGF0dGVybiddLS0tPlRva2VuR2VuZXJhdGlvblsnVG9rZW4gR2VuZXJhdGlvbiddCiAgVmVyaWZ5ZmFjZXdpdGhJRFsnVmVyaWZ5IGZhY2Ugd2l0aCBJRCddLS0tPkF1dGhlbnRpY2F0aW9uQ29tcGxldGVbJ0F1dGhlbnRpY2F0aW9uIENvbXBsZXRlJ10KICBFbnRlckJhbmtJRC9QV1snRW50ZXIgQmFuayBJRC9QVyddLS0tPkxvYWRCYWxhbmNlclsnTG9hZCBCYWxhbmNlciddCiAgVXNlUHVibGljQ2VydGlmaWNhdGVbJ1VzZSBQdWJsaWMgQ2VydGlmaWNhdGUnXS0tLT5QS0lDZXJ0aWZpY2F0ZVNlcnZpY2VbJ1BLSSBDZXJ0aWZpY2F0ZSBTZXJ2aWNlJ10KICBWZXJpZnlSZXNpZGVudFJlZ2lzdHJhdGlvbk51bWJlclsnVmVyaWZ5IFJlc2lkZW50IFJlZ2lzdHJhdGlvbiBOdW1iZXInXS0tLT5Mb2FkQmFsYW5jZXJbJ0xvYWQgQmFsYW5jZXInXQogIFVzZWJpb21ldHJpY2F1dGhlbnRpY2F0aW9uWydVc2UgYmlvbWV0cmljIGF1dGhlbnRpY2F0aW9uJ10tLS0-QmlvbWV0cmljUHJvY2Vzc29yWydCaW9tZXRyaWMgUHJvY2Vzc29yJ10KICBVc2VzaW1wbGVQSU5bJ1VzZSBzaW1wbGUgUElOJ10tLS0-TG9hZEJhbGFuY2VyWydMb2FkIEJhbGFuY2VyJ10KICBWZXJpZnlQSU5bJ1ZlcmlmeSBQSU4nXS0tLT5Ub2tlbkdlbmVyYXRpb25bJ1Rva2VuIEdlbmVyYXRpb24nXQogIFZlcmlmeU9UUFsnVmVyaWZ5IE9UUCddLS0tPkF1dGhlbnRpY2F0aW9uQ29tcGxldGVbJ0F1dGhlbnRpY2F0aW9uIENvbXBsZXRlJ10KICBTZW5kU01TQ29kZVsnU2VuZCBTTVMgQ29kZSddLS0tPlZlcmlmeVNNU0NvZGVbJ1ZlcmlmeSBTTVMgQ29kZSddCiAgVmVyaWZ5U01TQ29kZVsnVmVyaWZ5IFNNUyBDb2RlJ10tLS0-VmVyaWZ5T1RQWydWZXJpZnkgT1RQJ10KICBMb2FkQmFsYW5jZXJbJ0xvYWQgQmFsYW5jZXInXS0tLT5XZWJBcHBsaWNhdGlvbkZpcmV3YWxsWydXZWIgQXBwbGljYXRpb24gRmlyZXdhbGwnXQogIFdlYkFwcGxpY2F0aW9uRmlyZXdhbGxbJ1dlYiBBcHBsaWNhdGlvbiBGaXJld2FsbCddLS0tPlRMU0hhbmRzaGFrZVsnVExTIEhhbmRzaGFrZSddCiAgVExTSGFuZHNoYWtlWydUTFMgSGFuZHNoYWtlJ10tLS0-SW5pdGlhbGl6ZVNlc3Npb25bJ0luaXRpYWxpemUgU2Vzc2lvbiddCiAgSW5pdGlhbGl6ZVNlc3Npb25bJ0luaXRpYWxpemUgU2Vzc2lvbiddLS0tPkNyZWRlbnRpYWxFbmNyeXB0aW9uWydDcmVkZW50aWFsIEVuY3J5cHRpb24nXQogIENyZWRlbnRpYWxFbmNyeXB0aW9uWydDcmVkZW50aWFsIEVuY3J5cHRpb24nXS0tLT5IYXNoVmVyaWZpY2F0aW9uWydIYXNoIFZlcmlmaWNhdGlvbiddCiAgSGFzaFZlcmlmaWNhdGlvblsnSGFzaCBWZXJpZmljYXRpb24nXS0tLT5Ub2tlbkdlbmVyYXRpb25bJ1Rva2VuIEdlbmVyYXRpb24nXQogIFRva2VuR2VuZXJhdGlvblsnVG9rZW4gR2VuZXJhdGlvbiddLS0tPk1GQVNlcnZpY2VbJ01GQSBTZXJ2aWNlJ10KICBNRkFTZXJ2aWNlWydNRkEgU2VydmljZSddLS0tPlNlbmRTTVNDb2RlWydTZW5kIFNNUyBDb2RlJ10KICBCaW9tZXRyaWNQcm9jZXNzb3JbJ0Jpb21ldHJpYyBQcm9jZXNzb3InXS0tLT5NRkFTZXJ2aWNlWydNRkEgU2VydmljZSddCiAgUEtJQ2VydGlmaWNhdGVTZXJ2aWNlWydQS0kgQ2VydGlmaWNhdGUgU2VydmljZSddLS0tPkxvYWRCYWxhbmNlclsnTG9hZCBCYWxhbmNlciddCg==\"/>"
            ],
            "text/plain": [
              "<IPython.core.display.Image object>"
            ]
          },
          "metadata": {}
        }
      ]
    }
  ]
}
